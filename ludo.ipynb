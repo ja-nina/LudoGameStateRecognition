{
 "cells": [
  {
   "attachments": {},
   "cell_type": "markdown",
   "metadata": {},
   "source": [
    "# Ludo Project"
   ]
  },
  {
   "cell_type": "code",
   "execution_count": 2,
   "metadata": {},
   "outputs": [],
   "source": [
    "%matplotlib inline\n",
    "import matplotlib.pyplot as plt\n",
    "import numpy as np\n",
    "import cv2\n",
    "import PIL\n",
    "import os\n",
    "import sys\n",
    "import glob\n",
    "import random\n",
    "\n",
    "from pprint import pprint\n",
    "from ipywidgets import Video\n",
    "\n",
    "from PIL import Image\n",
    "from PIL.ExifTags import TAGS"
   ]
  },
  {
   "cell_type": "code",
   "execution_count": 3,
   "metadata": {},
   "outputs": [],
   "source": [
    "def imshow(a):\n",
    "  a = a.clip(0, 255).astype('uint8')\n",
    "  if a.ndim == 3:\n",
    "    if a.shape[2] == 4:\n",
    "      a = cv2.cvtColor(a, cv2.COLOR_BGRA2RGBA)\n",
    "    else:\n",
    "      a = cv2.cvtColor(a, cv2.COLOR_BGR2RGB)\n",
    "  display(PIL.Image.fromarray(a))"
   ]
  },
  {
   "cell_type": "code",
   "execution_count": 4,
   "metadata": {},
   "outputs": [
    {
     "name": "stdout",
     "output_type": "stream",
     "text": [
      "opencv: height:1920.0 width:1080.0\n"
     ]
    }
   ],
   "source": [
    "vid = cv2.VideoCapture( 'videos\\IMG_1912.mp4')\n",
    "height = vid.get(cv2.CAP_PROP_FRAME_HEIGHT) # always 0 in Linux python3\n",
    "width  = vid.get(cv2.CAP_PROP_FRAME_WIDTH)  # always 0 in Linux python3\n",
    "print (\"opencv: height:{} width:{}\".format( height, width))"
   ]
  },
  {
   "cell_type": "code",
   "execution_count": 5,
   "metadata": {},
   "outputs": [
    {
     "data": {
      "application/vnd.jupyter.widget-view+json": {
       "model_id": "f151ea26d0c840e7b717fc5d9913e8b2",
       "version_major": 2,
       "version_minor": 0
      },
      "text/plain": [
       "Video(value=b'\\x00\\x00\\x00 ftypisom\\x00\\x00\\x02\\x00isomiso2avc1mp41\\x00\\x01y\\xfemoov...')"
      ]
     },
     "execution_count": 5,
     "metadata": {},
     "output_type": "execute_result"
    }
   ],
   "source": [
    "Video.from_file('videos\\IMG_1912.mp4')"
   ]
  }
 ],
 "metadata": {
  "kernelspec": {
   "display_name": "ludo",
   "language": "python",
   "name": "python3"
  },
  "language_info": {
   "codemirror_mode": {
    "name": "ipython",
    "version": 3
   },
   "file_extension": ".py",
   "mimetype": "text/x-python",
   "name": "python",
   "nbconvert_exporter": "python",
   "pygments_lexer": "ipython3",
   "version": "3.7.15"
  },
  "orig_nbformat": 4,
  "vscode": {
   "interpreter": {
    "hash": "2e4ea95db1a3c6cbfacc36f7d4ebc440773e1900f02cba2ba440911898a09d97"
   }
  }
 },
 "nbformat": 4,
 "nbformat_minor": 2
}
